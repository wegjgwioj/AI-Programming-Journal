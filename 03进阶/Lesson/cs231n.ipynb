{
 "cells": [
  {
   "cell_type": "code",
   "execution_count": null,
   "metadata": {},
   "outputs": [],
   "source": [
    "'''\n",
    "def classify_image(image_path):\n",
    "    # Some magic happens here?\n",
    "    return class_label\n",
    "'''"
   ]
  },
  {
   "cell_type": "markdown",
   "metadata": {},
   "source": [
    "# 图像分类"
   ]
  },
  {
   "cell_type": "markdown",
   "metadata": {},
   "source": [
    "## 数据驱动方法\n",
    "  \n",
    "  训练函数 接收图片和标签\n",
    "  \n",
    "  预测函数  模型预测\n",
    "\n"
   ]
  },
  {
   "cell_type": "markdown",
   "metadata": {},
   "source": []
  },
  {
   "cell_type": "markdown",
   "metadata": {},
   "source": [
    "## KNN \n",
    "欧式距离度量 \n",
    "CIFAR-10\n",
    " 曼哈顿距离 --比较像素差距\n",
    "通过改变距离度量-->泛化到文本等其他领域\n",
    "超参数：k  、距离\n",
    "\n",
    "|训练集|验证集|测试集|\n",
    "\n",
    "* 交叉验证\n",
    "* \n",
    "\n"
   ]
  },
  {
   "cell_type": "markdown",
   "metadata": {},
   "source": [
    "KNN很少用于图像\n",
    "\n"
   ]
  },
  {
   "cell_type": "markdown",
   "metadata": {},
   "source": [
    "## 线性分类  \n",
    "$$ f=Wx+b $$\n",
    "CIFAR-10\n",
    "\n"
   ]
  },
  {
   "cell_type": "markdown",
   "metadata": {},
   "source": [
    "# 损失函数\n",
    "\n",
    "##  损失函数 \n",
    "## 优化\n"
   ]
  },
  {
   "cell_type": "markdown",
   "metadata": {},
   "source": [
    "# 神经网络\n",
    " ## 反向传播\n",
    " ## 神经网络"
   ]
  },
  {
   "cell_type": "markdown",
   "metadata": {},
   "source": [
    "# 卷积神经网络\n",
    "## 发展\n",
    "## 卷积和池化\n",
    "## 视觉之外的CNN\n",
    "\n",
    "\n",
    "# 训练·CNN\n",
    "## 激活函数\n",
    "## 批量归一化\n",
    "\n"
   ]
  },
  {
   "cell_type": "markdown",
   "metadata": {},
   "source": [
    "## 更好的优化\n",
    "## 正则化\n",
    "## 迁移学习\n"
   ]
  },
  {
   "cell_type": "markdown",
   "metadata": {},
   "source": [
    "# 工具\n",
    "## 软件\n"
   ]
  },
  {
   "cell_type": "markdown",
   "metadata": {},
   "source": [
    "# CNN\n"
   ]
  },
  {
   "cell_type": "markdown",
   "metadata": {},
   "source": [
    "# RNN\n",
    "## LSTM，GRU\n",
    "##  语言模型\n",
    "。。。"
   ]
  },
  {
   "cell_type": "markdown",
   "metadata": {},
   "source": [
    "# 目标检测 、图像分割\n"
   ]
  },
  {
   "cell_type": "markdown",
   "metadata": {},
   "source": [
    "# \n"
   ]
  }
 ],
 "metadata": {
  "kernelspec": {
   "display_name": "myc1",
   "language": "python",
   "name": "python3"
  },
  "language_info": {
   "name": "python",
   "version": "3.10.16"
  }
 },
 "nbformat": 4,
 "nbformat_minor": 2
}
