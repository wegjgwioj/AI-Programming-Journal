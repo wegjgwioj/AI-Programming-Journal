{
 "cells": [
  {
   "cell_type": "markdown",
   "metadata": {},
   "source": [
    "### 学习数据加载（Dataset/DataLoader或tf.data.Dataset）构建MNIST数据集加载管道（TensorFlow）"
   ]
  },
  {
   "cell_type": "code",
   "execution_count": 1,
   "metadata": {},
   "outputs": [],
   "source": [
    "import tensorflow as tf\n",
    "from tensorflow.keras.datasets import mnist\n",
    "from tensorflow.data import Dataset"
   ]
  },
  {
   "cell_type": "markdown",
   "metadata": {},
   "source": [
    "#### 1. 加载MNIST数据集\n",
    "使用`mnist.load_data`加载训练和测试数据集。"
   ]
  },
  {
   "cell_type": "code",
   "execution_count": 2,
   "metadata": {},
   "outputs": [],
   "source": [
    "(x_train, y_train), (x_test, y_test) = mnist.load_data()\n",
    "x_train, x_test = x_train / 255.0, x_test / 255.0"
   ]
  },
  {
   "cell_type": "markdown",
   "metadata": {},
   "source": [
    "#### 2. 创建数据集对象\n",
    "使用`tf.data.Dataset`创建训练和测试数据集对象。"
   ]
  },
  {
   "cell_type": "code",
   "execution_count": 3,
   "metadata": {},
   "outputs": [],
   "source": [
    "train_dataset = Dataset.from_tensor_slices((x_train, y_train)).shuffle(60000).batch(64)\n",
    "test_dataset = Dataset.from_tensor_slices((x_test, y_test)).batch(1000)"
   ]
  },
  {
   "cell_type": "markdown",
   "metadata": {},
   "source": [
    "#### 3. 遍历数据\n",
    "遍历数据集对象以获取批次数据。"
   ]
  },
  {
   "cell_type": "code",
   "execution_count": 4,
   "metadata": {},
   "outputs": [
    {
     "name": "stdout",
     "output_type": "stream",
     "text": [
      "Batch 0: data shape (64, 28, 28), target shape (64,)\n"
     ]
    }
   ],
   "source": [
    "for batch_idx, (data, target) in enumerate(train_dataset):\n",
    "    print(f'Batch {batch_idx}: data shape {data.shape}, target shape {target.shape}')\n",
    "    if batch_idx == 0:\n",
    "        break"
   ]
  }
 ],
 "metadata": {
  "kernelspec": {
   "display_name": "myc1",
   "language": "python",
   "name": "python3"
  },
  "language_info": {
   "name": "python",
   "version": "3.10.16"
  }
 },
 "nbformat": 4,
 "nbformat_minor": 2
}
