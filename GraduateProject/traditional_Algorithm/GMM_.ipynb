{
 "cells": [
  {
   "cell_type": "markdown",
   "metadata": {},
   "source": [
    "### 实现GMM算法：视频流背景建模和前景检测\n",
    "#### 核心思想\n",
    "GMM假设每个像素的时域变化服从多个高斯分布的混合，通过统计建模区分背景与前景。\n",
    "- 模型构建：每个像素由3-5个高斯分布描述，权重、均值和方差动态更新。\n",
    "- 前景检测：若像素值不在前B个高权重高斯分布的置信区间内，则判定为前景。\n",
    "- 优化手段：结合形态学操作（如中值滤波、膨胀）和三通道联合判断，提升轮廓完整性。\n",
    "#### 技术分类\n",
    "- 背景差分法：基于统计建模的改进方法，适用于动态背景（如树枝摇晃），但对突发变化的适应性有限。"
   ]
  },
  {
   "cell_type": "code",
   "execution_count": null,
   "metadata": {},
   "outputs": [],
   "source": [
    "import cv2\n",
    "import numpy as np\n",
    "\n",
    "class GMM:\n",
    "    def __init__(self, history=500, varThreshold=16, detectShadows=True):\n",
    "        self.gmm = cv2.createBackgroundSubtractorMOG2(history=history, varThreshold=varThreshold, detectShadows=detectShadows)\n",
    "\n",
    "    def apply(self, frame):\n",
    "        fg_mask = self.gmm.apply(frame)\n",
    "        return fg_mask\n",
    "\n",
    "cap = cv2.VideoCapture('video.mp4')\n",
    "\n",
    "gmm = GMM()\n",
    "\n",
    "while cap.isOpened():\n",
    "    ret, frame = cap.read()\n",
    "    if not ret:\n",
    "        break\n",
    "    fg_mask = gmm.apply(frame)\n",
    "    fg_mask = cv2.medianBlur(fg_mask, 5)\n",
    "    fg_mask = cv2.dilate(fg_mask, None, iterations=2)\n",
    "    cv2.imshow('Frame', frame)\n",
    "    cv2.imshow('Foreground Mask', fg_mask)\n",
    "    if cv2.waitKey(30) & 0xFF == ord('q'):\n",
    "        break\n",
    "\n",
    "cap.release()\n",
    "cv2.destroyAllWindows()\n"
   ]
  },
  {
   "cell_type": "markdown",
   "metadata": {},
   "source": [
    "讲讲mog2\n"
   ]
  }
 ],
 "metadata": {
  "kernelspec": {
   "display_name": "Python 3",
   "language": "python",
   "name": "python3"
  },
  "language_info": {
   "codemirror_mode": {
    "name": "ipython",
    "version": 3
   },
   "file_extension": ".py",
   "mimetype": "text/x-python",
   "name": "python",
   "nbconvert_exporter": "python",
   "pygments_lexer": "ipython3",
   "version": "3.8.5"
  }
 },
 "nbformat": 4,
 "nbformat_minor": 4
}
