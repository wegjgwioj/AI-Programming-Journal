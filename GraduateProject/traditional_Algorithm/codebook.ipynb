{
 "cells": [
  {
   "cell_type": "markdown",
   "metadata": {},
   "source": [
    "### **一、码书模型（Code Book）**\n",
    "\n",
    "#### **核心思想**\n",
    "\n",
    "码书模型通过为**每个像素建立动态码本**来描述背景的复杂变化。每个码本包含多个码元（阈值范围），通过匹配当前像素值与历史码元来判断其属于背景还是前景。\n",
    "\n",
    "- **码元更新**：若像素值匹配码元，则更新码元的阈值；若不匹配，则新增码元以应对动态背景（如树叶晃动、光照渐变）。\n",
    "- **适应性**：适合处理多模态背景（如水面波纹、动态植被），但对剧烈变化的场景（如突然光照突变）鲁棒性较弱。\n",
    "\n",
    "#### **技术分类**\n",
    "\n",
    "- **背景差分法**：属于基于像素的背景建模方法，通过建立背景模型并与当前帧对比检测前景。"
   ]
  },
  {
   "cell_type": "code",
   "metadata": {},
   "source": [
    "# 代码实现（hsv空间）\n",
    "import cv2\n",
    "import numpy as np\n",
    "\n",
    "# 初始化视频捕捉\n",
    "cap = cv2.VideoCapture('video.mp4')\n",
    "\n",
    "# 读取第一帧\n",
    "ret, frame = cap.read()\n",
    "hsv = cv2.cvtColor(frame, cv2.COLOR_BGR2HSV)\n",
    "\n",
    "# 初始化码书\n",
    "codebook = np.zeros_like(hsv, dtype=np.float32)\n",
    "\n",
    "while cap.isOpened():\n",
    "    ret, frame = cap.read()\n",
    "    if not ret:\n",
    "        break\n",
    "    hsv = cv2.cvtColor(frame, cv2.COLOR_BGR2HSV)\n",
    "    \n",
    "    # 更新码书\n",
    "    codebook = cv2.addWeighted(codebook, 0.9, hsv, 0.1, 0)\n",
    "    \n",
    "    # 计算前景掩码\n",
    "    fg_mask = cv2.absdiff(hsv, codebook)\n",
    "    fg_mask = cv2.cvtColor(fg_mask, cv2.COLOR_BGR2GRAY)\n",
    "    _, fg_mask = cv2.threshold(fg_mask, 50, 255, cv2.THRESH_BINARY)\n",
    "    \n",
    "    # 显示结果\n",
    "    cv2.imshow('Foreground Mask', fg_mask)\n",
    "    if cv2.waitKey(30) & 0xFF == ord('q'):\n",
    "        break\n",
    "\n",
    "cap.release()\n",
    "cv2.destroyAllWindows()\n"
   ]
  }
 ]
}
