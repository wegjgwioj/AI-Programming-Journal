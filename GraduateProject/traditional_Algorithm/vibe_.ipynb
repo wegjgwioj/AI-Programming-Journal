{
 "cells": [
  {
   "cell_type": "markdown",
   "metadata": {},
   "source": [
    "### 实现vibe算法：视频流实时场景抑制+动态目标检测"
   ]
  },
  {
   "cell_type": "markdown",
   "metadata": {},
   "source": [
    "待调整\n"
   ]
  },
  {
   "cell_type": "code",
   "execution_count": null,
   "metadata": {},
   "outputs": [],
   "source": [
    "import cv2\n",
    "import numpy as np\n",
    "\n",
    "class ViBe:\n",
    "    def __init__(self, num_samples=20, min_matches=2, radius=20, subsample_factor=16):\n",
    "        self.num_samples = num_samples\n",
    "        self.min_matches = min_matches\n",
    "        self.radius = radius\n",
    "        self.subsample_factor = subsample_factor\n",
    "        self.samples = None\n",
    "\n",
    "    def initialize(self, frame):\n",
    "        height, width = frame.shape[:2]\n",
    "        self.samples = np.zeros((height, width, self.num_samples), dtype=np.uint8)\n",
    "        for i in range(height):\n",
    "            for j in range(width):\n",
    "                for k in range(self.num_samples):\n",
    "                    rand_i = np.clip(i + np.random.randint(-1, 2), 0, height - 1)\n",
    "                    rand_j = np.clip(j + np.random.randint(-1, 2), 0, width - 1)\n",
    "                    self.samples[i, j, k] = frame[rand_i, rand_j]\n",
    "\n",
    "    def update(self, frame):\n",
    "        height, width = frame.shape[:2]\n",
    "        fg_mask = np.zeros((height, width), dtype=np.uint8)\n",
    "        for i in range(height):\n",
    "            for j in range(width):\n",
    "                count = 0\n",
    "                for k in range(self.num_samples):\n",
    "                    if abs(int(frame[i, j]) - int(self.samples[i, j, k])) < self.radius:\n",
    "                        count += 1\n",
    "                        if count >= self.min_matches:\n",
    "                            break\n",
    "                if count < self.min_matches:\n",
    "                    fg_mask[i, j] = 255\n",
    "                if np.random.randint(0, self.subsample_factor) == 0:\n",
    "                    rand_sample = np.random.randint(0, self.num_samples)\n",
    "                    self.samples[i, j, rand_sample] = frame[i, j]\n",
    "                    rand_i = np.clip(i + np.random.randint(-1, 2), 0, height - 1)\n",
    "                    rand_j = np.clip(j + np.random.randint(-1, 2), 0, width - 1)\n",
    "                    self.samples[rand_i, rand_j, rand_sample] = frame[i, j]\n",
    "        return fg_mask\n",
    "\n",
    "cap = cv2.VideoCapture('video.mp4')\n",
    "ret, frame = cap.read()\n",
    "vibe = ViBe()\n",
    "vibe.initialize(cv2.cvtColor(frame, cv2.COLOR_BGR2GRAY))\n",
    "\n",
    "while cap.isOpened():\n",
    "    ret, frame = cap.read()\n",
    "    if not ret:\n",
    "        break\n",
    "    gray = cv2.cvtColor(frame, cv2.COLOR_BGR2GRAY)\n",
    "    fg_mask = vibe.update(gray)\n",
    "    cv2.imshow('Frame', frame)\n",
    "    cv2.imshow('Foreground Mask', fg_mask)\n",
    "    if cv2.waitKey(30) & 0xFF == ord('q'):\n",
    "        break\n",
    "\n",
    "cap.release()\n",
    "cv2.destroyAllWindows()\n"
   ]
  }
 ],
 "metadata": {
  "language_info": {
   "name": "python"
  }
 },
 "nbformat": 4,
 "nbformat_minor": 2
}
