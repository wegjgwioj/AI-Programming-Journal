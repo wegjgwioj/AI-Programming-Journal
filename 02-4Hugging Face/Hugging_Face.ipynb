{
 "cells": [
  {
   "cell_type": "markdown",
   "metadata": {},
   "source": [
    "# Hugging Face 学习\n",
    "[Hugging Face NLP Course](https://huggingface.co/learn/nlp-course/chapter1/1)（免费，含代码环境）"
   ]
  }
 ],
 "metadata": {
  "kernelspec": {
   "display_name": "myc1",
   "language": "python",
   "name": "python3"
  },
  "language_info": {
   "name": "python",
   "version": "3.10.16"
  }
 },
 "nbformat": 4,
 "nbformat_minor": 2
}
