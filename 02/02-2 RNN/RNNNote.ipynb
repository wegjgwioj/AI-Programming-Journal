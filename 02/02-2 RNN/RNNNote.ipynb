{
  "cells": [
    {
      "cell_type": "markdown",
      "metadata": {
        "id": "ApEnEpr8lYKq"
      },
      "source": [
        "# RNN\n",
        " #### 循环\n",
        " $ S_t =f(W_{in} X + W_sS_{t-1}+b) $\n",
        " [李宏毅《机器学习》RNN章节](https://speech.ee.ntu.edu.tw/~hylee/ml/2021-spring.php)\n",
        "\n",
        " ---\n",
        "\n",
        " #### RNN\n",
        " * 需要处理「序列数据 – 一串相互依赖的数据流」的场景就需要使用 RNN 来解决\n",
        "\n",
        "典型的集中序列数据：\n",
        "\n",
        "\n",
        "文章里的文字内容、语音里的音频内容、股票市场中的价格走势\n",
        "……\n",
        "* 缺点\n",
        "  * RNN 有短期记忆问题，无法处理很长的输入序列\n",
        "  * 训练 RNN 需要投入极大的成本\n",
        "\n",
        "   \n",
        "  \n",
        " ---\n",
        "\n",
        "  \n",
        " #### LSTM 长短期记忆网络\n",
        " [LSTM](https://easyai.tech/ai-definition/lstm/)\n",
        "\n",
        " LSTM 做的最大的改变就是打破了这个死板的逻辑，而改用了一套灵活了逻辑——只保留重要的信息。\n",
        "\n",
        "简单说就是：抓重点！\n",
        "\n",
        "---\n",
        "\n",
        "\n",
        "\n",
        "#### 从 LSTM 到 GRU\n",
        "\n",
        "Gated Recurrent Unit – GRU 是 LSTM 的一个变体。他保留了 LSTM 划重点，遗忘不重要信息的特点，在long-term 传播的时候也不会被丢失。\n",
        "\n",
        "GRU 主要是在 LSTM 的模型上做了一些简化和调整，在训练数据集比较大的情况下可以节省很多时间。\n",
        "\n",
        "---\n",
        "\n",
        "\n",
        "## RNN 几个典型的应用如下：\n",
        "\n",
        "* 文本生成\n",
        "* 语音识别\n",
        "* 机器翻译\n",
        "* 生成图像描述\n",
        "* 视频标记\n"
      ]
    },
    {
      "cell_type": "markdown",
      "metadata": {
        "id": "raRGMH-Wum6h"
      },
      "source": [
        " ## 梯度消失\n",
        " 梯度消失是指在深度神经网络的反向传播过程中，随着网络层数的增加，梯度值逐层减小，最终趋近于零的现象。这会导致靠近输入层的权重更新变得非常缓慢，几乎不更新，从而阻止网络从输入数据中学习有效的特征表示"
      ]
    },
    {
      "cell_type": "markdown",
      "metadata": {
        "id": "QtSi9pDBwz00"
      },
      "source": [
        "# 股票价格预测\n",
        "[LSTM文本生成代码](https://github.com/spro/practical-pytorch/blob/master/char-rnn-generation/char-rnn-generation.ipynb)"
      ]
    }
  ],
  "metadata": {
    "colab": {
      "provenance": []
    },
    "kernelspec": {
      "display_name": "Python 3",
      "name": "python3"
    },
    "language_info": {
      "name": "python"
    }
  },
  "nbformat": 4,
  "nbformat_minor": 0
}
