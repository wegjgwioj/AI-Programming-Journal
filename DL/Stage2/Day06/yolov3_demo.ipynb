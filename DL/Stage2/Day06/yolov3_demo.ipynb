{
 "cells": [
  {
   "cell_type": "markdown",
   "metadata": {},
   "source": [
    "# YOLOv3目标检测\n",
    "目标：实现YOLOv3模型进行目标检测，并可视化检测结果。"
   ]
  },
  {
   "cell_type": "code",
   "execution_count": null,
   "metadata": {},
   "outputs": [],
   "source": [
    "# 导入必要的库\n",
    "import numpy as np\n",
    "import cv2\n",
    "import matplotlib.pyplot as plt\n",
    "import tensorflow as tf\n",
    "from tensorflow.keras.models import load_model\n"
   ]
  },
  {
   "cell_type": "code",
   "execution_count": null,
   "metadata": {},
   "outputs": [],
   "source": [
    "# 加载YOLOv3模型\n",
    "model = load_model('yolov3.h5')\n",
    "model.summary()"
   ]
  },
  {
   "cell_type": "code",
   "execution_count": null,
   "metadata": {},
   "outputs": [],
   "source": [
    "# 定义辅助函数\n",
    "def load_image_pixels(filename, shape):\n",
    "    image = cv2.imread(filename)\n",
    "    image = cv2.cvtColor(image, cv2.COLOR_BGR2RGB)\n",
    "    image = cv2.resize(image, shape)\n",
    "    image = image.astype('float32')\n",
    "    image /= 255.0\n",
    "    image = np.expand_dims(image, 0)\n",
    "    return image, image.shape[1:3]\n",
    "\n",
    "def draw_boxes(filename, v_boxes, v_labels, v_scores):\n",
    "    image = cv2.imread(filename)\n",
    "    for i in range(len(v_boxes)):\n",
    "        box = v_boxes[i]\n",
    "        y1, x1, y2, x2 = box.ymin, box.xmin, box.ymax, box.xmax\n",
    "        cv2.rectangle(image, (x1, y1), (x2, y2), (0,255,0), 2)\n",
    "        label = \"%s (%.3f)\" % (v_labels[i], v_scores[i])\n",
    "        cv2.putText(image, label, (x1, y1-10), cv2.FONT_HERSHEY_SIMPLEX, 0.5, (0,255,0), 2)\n",
    "    plt.imshow(cv2.cvtColor(image, cv2.COLOR_BGR2RGB))\n",
    "    plt.show()\n"
   ]
  },
  {
   "cell_type": "code",
   "execution_count": null,
   "metadata": {},
   "outputs": [],
   "source": [
    "# 加载和预处理图像\n",
    "image_path = 'test.jpg'\n",
    "input_w, input_h = 416, 416\n",
    "image, image_shape = load_image_pixels(image_path, (input_w, input_h))\n"
   ]
  },
  {
   "cell_type": "code",
   "execution_count": null,
   "metadata": {},
   "outputs": [],
   "source": [
    "# 进行目标检测\n",
    "yhat = model.predict(image)\n",
    "boxes, labels, scores = decode_predictions(yhat, image_shape)\n",
    "draw_boxes(image_path, boxes, labels, scores)\n"
   ]
  }
 ],
 "metadata": {
  "kernelspec": {
   "display_name": "myc1",
   "language": "python",
   "name": "python3"
  },
  "language_info": {
   "codemirror_mode": {
    "name": "ipython",
    "version": 3
   },
   "file_extension": ".py",
   "mimetype": "text/x-python",
   "name": "python",
   "nbconvert_exporter": "python",
   "pygments_lexer": "ipython3",
   "version": "3.10.16"
  }
 },
 "nbformat": 4,
 "nbformat_minor": 4
}
