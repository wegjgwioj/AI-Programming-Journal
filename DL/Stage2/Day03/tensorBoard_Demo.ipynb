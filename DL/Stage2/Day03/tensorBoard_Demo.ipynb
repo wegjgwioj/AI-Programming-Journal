{
 "cells": [
  {
   "cell_type": "markdown",
   "metadata": {},
   "source": [
    "### TensorBoard 可视化\n",
    "\n",
    "- 学习目标：学会使用 TensorBoard 进行训练过程的可视化，以便更好地理解和调试模型。\n",
    "- 学习内容：\n",
    "  - 安装并配置 TensorBoard。\n",
    "  - 在训练过程中记录损失值、准确率等指标。\n",
    "  - 使用 TensorBoard 可视化训练过程中的各项指标。"
   ]
  },
  {
   "cell_type": "code",
   "execution_count": null,
   "metadata": {},
   "outputs": [],
   "source": [
    "# 安装 TensorBoard\n",
    "%pip install tensorboard\n",
    "\n",
    "# 导入必要的库\n",
    "import torch\n",
    "import torchvision\n",
    "import torchvision.transforms as transforms\n",
    "from torchvision import models\n",
    "from torch.utils.tensorboard import SummaryWriter\n",
    "\n",
    "# 数据预处理\n",
    "transform = transforms.Compose([\n",
    "    transforms.Resize(224),\n",
    "    transforms.ToTensor(),\n",
    "    transforms.Normalize((0.485, 0.456, 0.406), (0.229, 0.224, 0.225)),\n",
    "])\n",
    "\n",
    "# 加载 CIFAR10 数据集\n",
    "trainset = torchvision.datasets.CIFAR10(root='./data', train=True, download=True, transform=transform)\n",
    "trainloader = torch.utils.data.DataLoader(trainset, batch_size=32, shuffle=True, num_workers=2)\n",
    "\n",
    "testset = torchvision.datasets.CIFAR10(root='./data', train=False, download=True, transform=transform)\n",
    "testloader = torch.utils.data.DataLoader(testset, batch_size=32, shuffle=False, num_workers=2)\n",
    "\n",
    "# 加载预训练的 ResNet 模型\n",
    "model = models.resnet18(pretrained=True)\n",
    "\n",
    "# 修改最后的全连接层以适应 CIFAR10 数据集（10 类）\n",
    "num_ftrs = model.fc.in_features\n",
    "model.fc = torch.nn.Linear(num_ftrs, 10)\n",
    "\n",
    "# 定义损失函数和优化器\n",
    "criterion = torch.nn.CrossEntropyLoss()\n",
    "optimizer = torch.optim.SGD(model.parameters(), lr=0.001, momentum=0.9)\n",
    "\n",
    "# 初始化 TensorBoard\n",
    "writer = SummaryWriter('runs/resnet_experiment')\n",
    "\n",
    "# 训练模型并记录损失值\n",
    "for epoch in range(10):  # 训练 10 个 epoch\n",
    "    running_loss = 0.0\n",
    "    for i, data in enumerate(trainloader, 0):\n",
    "        inputs, labels = data\n",
    "        optimizer.zero_grad()\n",
    "        outputs = model(inputs)\n",
    "        loss = criterion(outputs, labels)\n",
    "        loss.backward()\n",
    "        optimizer.step()\n",
    "        running_loss += loss.item()\n",
    "        if i % 100 == 99:  # 每 100 个 mini-batch 打印一次损失\n",
    "            print(f'[Epoch {epoch + 1}, Batch {i + 1}] loss: {running_loss / 100:.3f}')\n",
    "            writer.add_scalar('training loss', running_loss / 100, epoch * len(trainloader) + i)\n",
    "            running_loss = 0.0\n",
    "\n",
    "print('Finished Training')\n",
    "writer.close()"
   ]
  },
  {
   "cell_type": "code",
   "execution_count": null,
   "metadata": {},
   "outputs": [],
   "source": [
    "# 评估模型性能并记录准确率\n",
    "correct = 0\n",
    "total = 0\n",
    "with torch.no_grad():\n",
    "    for data in testloader:\n",
    "        images, labels = data\n",
    "        outputs = model(images)\n",
    "        _, predicted = torch.max(outputs.data, 1)\n",
    "        total += labels.size(0)\n",
    "        correct += (predicted == labels).sum().item()\n",
    "\n",
    "accuracy = 100 * correct / total\n",
    "print(f'Accuracy of the network on the 10000 test images: {accuracy} %')\n",
    "writer.add_scalar('accuracy', accuracy)\n",
    "writer.close()"
   ]
  },
  {
   "cell_type": "markdown",
   "metadata": {},
   "source": [
    "### 启动 TensorBoard\n",
    "\n",
    "在命令行中运行以下命令以启动 TensorBoard：\n",
    "\n",
    "```sh\n",
    "tensorboard --logdir=runs\n",
    "```\n",
    "\n",
    "然后在浏览器中打开 http://localhost:6006 查看训练过程的可视化结果。"
   ]
  }
 ],
 "metadata": {
  "kernelspec": {
   "display_name": "myc1",
   "language": "python",
   "name": "python3"
  },
  "language_info": {
   "name": "python",
   "version": "3.10.16"
  }
 },
 "nbformat": 4,
 "nbformat_minor": 2
}
