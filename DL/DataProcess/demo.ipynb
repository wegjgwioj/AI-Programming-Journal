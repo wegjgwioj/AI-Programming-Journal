{
 "cells": [
  {
   "cell_type": "markdown",
   "metadata": {},
   "source": [
    "# NumPy\n"
   ]
  },
  {
   "cell_type": "code",
   "execution_count": null,
   "metadata": {},
   "outputs": [
    {
     "name": "stdout",
     "output_type": "stream",
     "text": [
      "[1 2 3]\n",
      "[[1 2]\n",
      " [3 4]]\n",
      "[[0. 0. 0.]\n",
      " [0. 0. 0.]]\n",
      "[[1. 1. 1.]\n",
      " [1. 1. 1.]]\n",
      "[[8 8 8]\n",
      " [8 8 8]]\n",
      "[[1. 0. 0.]\n",
      " [0. 1. 0.]\n",
      " [0. 0. 1.]]\n",
      "[[0.64021462 0.3858379  0.84751393]\n",
      " [0.57621175 0.13422636 0.40949311]]\n",
      "[ 1.    3.25  5.5   7.75 10.  ]\n"
     ]
    }
   ],
   "source": [
    "import numpy as np\n",
    "# 创建数组\n",
    "a = np.array([1, 2, 3,4,5,6,7])\n",
    "\n",
    "# 创建二维数组  \n",
    "b = np.array([[1, 2], [3, 4]])\n",
    "\n",
    "# 创建三维数组  。。。\n",
    "\n",
    "# 创建全0数组\n",
    "c = np.zeros((2, 3))\n",
    "\n",
    "# 创建全1数组\n",
    "d = np.ones((2, 3))\n",
    "\n",
    "# 创建指定值数组\n",
    "e = np.full((2, 3), 8) \n",
    "\n",
    "# 创建单位矩阵\n",
    "f = np.eye(3)\n",
    "\n",
    "# 创建随机数组\n",
    "g = np.random.random((2, 3))\n",
    "\n",
    "# 创建等差数组  \n",
    "i = np.linspace(1, 10, 5)\n",
    "\n",
    "print(a)\n",
    "print(b)\n",
    "print(c)\n",
    "print(d)\n",
    "print(e)\n",
    "print(f)\n",
    "print(g)\n",
    "print(i)\n"
   ]
  },
  {
   "cell_type": "code",
   "execution_count": 2,
   "metadata": {},
   "outputs": [
    {
     "name": "stdout",
     "output_type": "stream",
     "text": [
      "1\n",
      "[2 3]\n",
      "1\n",
      "1\n",
      "[1 2]\n",
      "[1 3]\n",
      "[1 2]\n"
     ]
    }
   ],
   "source": [
    "#数组索引\n",
    "print(a[0])\n",
    "print(a[1:3])\n",
    "print(b[0][0])\n",
    "print(b[0, 0])#等价于上面的 \n",
    "print(b[0, :])#取第一行\n",
    "print(b[:, 0])#取第一列\n",
    "print(b[0, 0:2])#取第一行的前两个元素\n",
    "\n",
    "\n"
   ]
  },
  {
   "cell_type": "code",
   "execution_count": 7,
   "metadata": {},
   "outputs": [
    {
     "name": "stdout",
     "output_type": "stream",
     "text": [
      "[ 1  2  3  4  5 65 67  0  7  7  8  9 10 11 12 13 14 15]\n",
      "[[ 1  2  3  4  5 65 67  0  7]\n",
      " [ 7  8  9 10 11 12 13 14 15]]\n",
      "[array([[ 1,  2,  3,  4,  5, 65, 67,  0,  7]]), array([[ 7,  8,  9, 10, 11, 12, 13, 14, 15]])]\n"
     ]
    }
   ],
   "source": [
    "#数组拼接和分割\n",
    "#np.concatenate()：沿着指定轴拼接数组。\n",
    "k=np.array([1,2,3,4,5,65,67,0,7])\n",
    "l=np.array([7,8,9,10,11,12,13,14,15])\n",
    "m=np.concatenate([k,l])#横向拼接\n",
    "print(m)\n",
    "#np.vstack()：沿着垂直方向拼接数组。\n",
    "n=np.vstack([k,l])\n",
    "print(n)\n",
    "#np.split()：沿着指定轴分割数组。\n",
    "o=np.split(n,2)#将n分割成两个数组   \n",
    "print(o)\n"
   ]
  },
  {
   "cell_type": "code",
   "execution_count": null,
   "metadata": {},
   "outputs": [],
   "source": [
    "#数组运算\n",
    "#数组与标量运算\n",
    "print(a+1)\n",
    "print(a-1)\n",
    "print(a*2)\n",
    "print(a/2)\n",
    "#数组与数组运算\n",
    "print(a+a)\n",
    "print(a-a)\n",
    "print(a*a)\n",
    "print(a/a)\n",
    "#数组与数组之间的运算\n",
    "print(a+b)\n",
    "print(a-b)\n",
    "print(a*b)\n",
    "print(a/b)\n",
    "#数组的矩阵运算\n",
    "print(np.dot(a,b))#矩阵乘法\n",
    "print(np.transpose(b))#矩阵转置\n",
    "print(np.linalg.inv(b))#矩阵求逆\n",
    "print(np.linalg.det(b))#矩阵求行列式\n",
    "print(np.linalg.eig(b))#矩阵求特征值和特征向量\n",
    "print(np.linalg.solve(b,a))#求解线性方程组\n",
    "#广播支持不同形状数组之间的计算。\n",
    "p=np.array([[1,2,3],[4,5,6],[7,8,9]])\n",
    "q=np.array([1,0,1])\n",
    "print(p+q)\n",
    "\n",
    "\n",
    "#统计函数\n",
    "#np.sum()：求和。\n",
    "print(np.sum(a))\n",
    "print(np.sum(b))\n",
    "print(np.sum(b,axis=0))#按列求和\n",
    "print(np.sum(b,axis=1))#按行求和\n",
    "#np.mean()：求平均值。\n",
    "print(np.mean(a))\n",
    "print(np.mean(b))\n",
    "print(np.mean(b,axis=0))#按列求平均值\n",
    "print(np.mean(b,axis=1))#按行求平均值\n",
    "#np.std()：求标准差。\n",
    "print(np.std(a))\n",
    "print(np.std(b))\n",
    "print(np.std(b,axis=0))#按列求标准差\n",
    "\n",
    "#np.min()：求最小值。\n",
    "print(np.min(a))\n",
    "print(np.min(b))\n",
    "print(np.min(b,axis=0))#按列求最小值\n",
    "print(np.min(b,axis=1))#按行求最小值\n",
    "#np.max()：求最大值。\n",
    "# 。。。\n",
    "\n",
    "#np.argmin()：求最小值的索引。\n",
    "print(np.argmin(a))\n",
    "print(np.argmin(b))\n",
    "print(np.argmin(b,axis=0))#按列求最小值的索引\n",
    "print(np.argmin(b,axis=1))#按行求最小值的索引\n",
    "\n",
    "\n",
    "\n",
    "\n",
    "\n"
   ]
  },
  {
   "cell_type": "code",
   "execution_count": null,
   "metadata": {},
   "outputs": [],
   "source": [
    "#数组的生成·\n",
    "#np.arange()：生成等差数组。\n",
    "print(np.arange(10))\n",
    "print(np.arange(1,10,2))\n",
    "#np.linspace()：生成等差数组。\n",
    "print(np.linspace(1,10,5))\n",
    "#np.logspace()：生成等比数组。\n",
    "print(np.logspace(0,2,3))\n",
    "#np.zeros()：生成全0数组。\n",
    "print(np.zeros(5))\n",
    "print(np.zeros((2,3)))\n",
    "#生成均匀分布的随机数。\n",
    "print(np.random.rand(5))\n",
    "#生成正态分布的随机数。\n",
    "print(np.random.randn(5))\n",
    "#生成随机整数。\n",
    "print(np.random.randint(1,10,5))"
   ]
  }
 ],
 "metadata": {
  "kernelspec": {
   "display_name": "myc1",
   "language": "python",
   "name": "python3"
  },
  "language_info": {
   "codemirror_mode": {
    "name": "ipython",
    "version": 3
   },
   "file_extension": ".py",
   "mimetype": "text/x-python",
   "name": "python",
   "nbconvert_exporter": "python",
   "pygments_lexer": "ipython3",
   "version": "3.10.16"
  }
 },
 "nbformat": 4,
 "nbformat_minor": 2
}
