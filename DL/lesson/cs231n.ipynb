{
 "cells": [
  {
   "cell_type": "code",
   "execution_count": null,
   "metadata": {},
   "outputs": [],
   "source": [
    "'''\n",
    "def classify_image(image_path):\n",
    "    # Some magic happens here?\n",
    "    return class_label\n",
    "'''"
   ]
  },
  {
   "cell_type": "markdown",
   "metadata": {},
   "source": [
    "数据驱动方法\n",
    "  --训练函数 接收图片和标签\n",
    "  --预测函数  模型预测\n",
    "\n"
   ]
  },
  {
   "cell_type": "markdown",
   "metadata": {},
   "source": [
    "* KNN \n",
    "欧式距离度量 \n",
    "CIFAR-10\n",
    " 曼哈顿距离 --比较像素差距\n",
    "通过改变距离度量-->泛化到文本等其他领域\n",
    "超参数：k  、距离\n",
    "\n",
    "|训练集|验证集|测试集|\n",
    "\n"
   ]
  }
 ],
 "metadata": {
  "kernelspec": {
   "display_name": "myc1",
   "language": "python",
   "name": "python3"
  },
  "language_info": {
   "name": "python",
   "version": "3.10.16"
  }
 },
 "nbformat": 4,
 "nbformat_minor": 2
}
